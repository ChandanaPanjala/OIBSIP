{
 "cells": [
  {
   "cell_type": "code",
   "execution_count": 1,
   "id": "d0aed115",
   "metadata": {},
   "outputs": [
    {
     "name": "stdout",
     "output_type": "stream",
     "text": [
      "Welcome to the Password Generator!\n",
      "Enter the length of the password: 10\n",
      "Include letters? (yes/no): yes\n",
      "Include numbers? (yes/no): yes\n",
      "Include symbols? (yes/no): yes\n",
      "Generated Password: 6G~b-elQ3e\n",
      "Generate another password? (yes/no): no\n",
      "Thank you for using the Password Generator!\n"
     ]
    }
   ],
   "source": [
    "import random\n",
    "import string\n",
    "\n",
    "def generate_password(length, use_letters=True, use_numbers=True, use_symbols=True):\n",
    "    characters = ''\n",
    "    if use_letters:\n",
    "        characters += string.ascii_letters\n",
    "    if use_numbers:\n",
    "        characters += string.digits\n",
    "    if use_symbols:\n",
    "        characters += string.punctuation\n",
    "\n",
    "    if not characters:\n",
    "        print(\"Error: Please select at least one character type.\")\n",
    "        return None\n",
    "\n",
    "    password = ''.join(random.choice(characters) for _ in range(length))\n",
    "    return password\n",
    "\n",
    "def main():\n",
    "    print(\"Welcome to the Password Generator!\")\n",
    "\n",
    "    while True:\n",
    "        length = int(input(\"Enter the length of the password: \"))\n",
    "        use_letters = input(\"Include letters? (yes/no): \").lower() in ('yes', 'y')\n",
    "        use_numbers = input(\"Include numbers? (yes/no): \").lower() in ('yes', 'y')\n",
    "        use_symbols = input(\"Include symbols? (yes/no): \").lower() in ('yes', 'y')\n",
    "\n",
    "        password = generate_password(length, use_letters, use_numbers, use_symbols)\n",
    "        if password:\n",
    "            print(\"Generated Password:\", password)\n",
    "\n",
    "        repeat = input(\"Generate another password? (yes/no): \").lower()\n",
    "        if repeat not in ('yes', 'y'):\n",
    "            break\n",
    "\n",
    "    print(\"Thank you for using the Password Generator!\")\n",
    "\n",
    "if __name__ == \"__main__\":\n",
    "    main()\n"
   ]
  },
  {
   "cell_type": "code",
   "execution_count": null,
   "id": "17d9f5ec",
   "metadata": {},
   "outputs": [],
   "source": []
  }
 ],
 "metadata": {
  "kernelspec": {
   "display_name": "Python 3 (ipykernel)",
   "language": "python",
   "name": "python3"
  },
  "language_info": {
   "codemirror_mode": {
    "name": "ipython",
    "version": 3
   },
   "file_extension": ".py",
   "mimetype": "text/x-python",
   "name": "python",
   "nbconvert_exporter": "python",
   "pygments_lexer": "ipython3",
   "version": "3.9.12"
  }
 },
 "nbformat": 4,
 "nbformat_minor": 5
}
